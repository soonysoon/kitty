{
  "nbformat": 4,
  "nbformat_minor": 0,
  "metadata": {
    "colab": {
      "name": "1주차_과제.ipynb",
      "provenance": [],
      "authorship_tag": "ABX9TyMybr8Rq50tmAQWSF5AC2yI",
      "include_colab_link": true
    },
    "kernelspec": {
      "name": "python3",
      "display_name": "Python 3"
    }
  },
  "cells": [
    {
      "cell_type": "markdown",
      "metadata": {
        "id": "view-in-github",
        "colab_type": "text"
      },
      "source": [
        "<a href=\"https://colab.research.google.com/github/soonysoon/kitty/blob/master/1%EC%A3%BC%EC%B0%A8_%EA%B3%BC%EC%A0%9C.ipynb\" target=\"_parent\"><img src=\"https://colab.research.google.com/assets/colab-badge.svg\" alt=\"Open In Colab\"/></a>"
      ]
    },
    {
      "cell_type": "markdown",
      "metadata": {
        "id": "ErSPhK_nDezz",
        "colab_type": "text"
      },
      "source": [
        "1. 4가지 분야의 인공지능 기술 적용 제품 및 서비스\n",
        "\n",
        "1) 언어\n",
        "제품 및 서비스\n",
        "\n",
        "2) 음성\n",
        "제품 및 서비스\n",
        "\n",
        "3) 이미지\n",
        "제품 및 서비스\n",
        "\n",
        "4) 자율주행\n",
        "제품 및 서비스\n",
        "\n",
        "2. 나의 흥미를 끄는 기술\n",
        "\n",
        "3. 학습 목표"
      ]
    },
    {
      "cell_type": "code",
      "metadata": {
        "id": "YCEnQ0NnBPrs",
        "colab_type": "code",
        "colab": {}
      },
      "source": [
        ""
      ],
      "execution_count": 0,
      "outputs": []
    }
  ]
}